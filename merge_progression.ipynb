{
 "cells": [
  {
   "cell_type": "code",
   "execution_count": 1,
   "metadata": {},
   "outputs": [],
   "source": [
    "import pandas as pd\n",
    "import numpy as np\n",
    "\n",
    "excel_sheet = \"master_sheet_main_uuid.xlsx\"\n",
    "csv_sheet = \"merged_userid_groupid.csv\"\n",
    "\n",
    "df_course = pd.read_excel(excel_sheet)\n",
    "df_progression = pd.read_csv(csv_sheet)"
   ]
  },
  {
   "cell_type": "code",
   "execution_count": 2,
   "metadata": {},
   "outputs": [
    {
     "data": {
      "text/html": [
       "<div>\n",
       "<style scoped>\n",
       "    .dataframe tbody tr th:only-of-type {\n",
       "        vertical-align: middle;\n",
       "    }\n",
       "\n",
       "    .dataframe tbody tr th {\n",
       "        vertical-align: top;\n",
       "    }\n",
       "\n",
       "    .dataframe thead th {\n",
       "        text-align: right;\n",
       "    }\n",
       "</style>\n",
       "<table border=\"1\" class=\"dataframe\">\n",
       "  <thead>\n",
       "    <tr style=\"text-align: right;\">\n",
       "      <th></th>\n",
       "      <th>course_uuid</th>\n",
       "      <th>card_uuid</th>\n",
       "    </tr>\n",
       "  </thead>\n",
       "  <tbody>\n",
       "    <tr>\n",
       "      <th>0</th>\n",
       "      <td>a83d93cb-9299-46ee-9d62-c69f35292bb7</td>\n",
       "      <td>2ed7c668-027c-4e4d-90e5-ce022878ecd2</td>\n",
       "    </tr>\n",
       "    <tr>\n",
       "      <th>1</th>\n",
       "      <td>a83d93cb-9299-46ee-9d62-c69f35292bb7</td>\n",
       "      <td>9eb6ca1b-11e8-48ca-bfbe-c1c8a8d76e54</td>\n",
       "    </tr>\n",
       "    <tr>\n",
       "      <th>2</th>\n",
       "      <td>a83d93cb-9299-46ee-9d62-c69f35292bb7</td>\n",
       "      <td>6ecf9a00-b92c-47e8-b15c-48864bb47abb</td>\n",
       "    </tr>\n",
       "    <tr>\n",
       "      <th>3</th>\n",
       "      <td>8b1741ea-b517-491c-894e-fa0611d5575c</td>\n",
       "      <td>d055ca58-f98b-4ffe-a19c-32887159e7df</td>\n",
       "    </tr>\n",
       "    <tr>\n",
       "      <th>4</th>\n",
       "      <td>8b1741ea-b517-491c-894e-fa0611d5575c</td>\n",
       "      <td>eac2d05e-429f-4e1d-9566-07920d571f4f</td>\n",
       "    </tr>\n",
       "  </tbody>\n",
       "</table>\n",
       "</div>"
      ],
      "text/plain": [
       "                            course_uuid                             card_uuid\n",
       "0  a83d93cb-9299-46ee-9d62-c69f35292bb7  2ed7c668-027c-4e4d-90e5-ce022878ecd2\n",
       "1  a83d93cb-9299-46ee-9d62-c69f35292bb7  9eb6ca1b-11e8-48ca-bfbe-c1c8a8d76e54\n",
       "2  a83d93cb-9299-46ee-9d62-c69f35292bb7  6ecf9a00-b92c-47e8-b15c-48864bb47abb\n",
       "3  8b1741ea-b517-491c-894e-fa0611d5575c  d055ca58-f98b-4ffe-a19c-32887159e7df\n",
       "4  8b1741ea-b517-491c-894e-fa0611d5575c  eac2d05e-429f-4e1d-9566-07920d571f4f"
      ]
     },
     "execution_count": 2,
     "metadata": {},
     "output_type": "execute_result"
    }
   ],
   "source": [
    "df_course = df_course[['course_uuid','card_uuid']]\n",
    "df_course.head()"
   ]
  },
  {
   "cell_type": "code",
   "execution_count": 3,
   "metadata": {},
   "outputs": [
    {
     "data": {
      "text/html": [
       "<div>\n",
       "<style scoped>\n",
       "    .dataframe tbody tr th:only-of-type {\n",
       "        vertical-align: middle;\n",
       "    }\n",
       "\n",
       "    .dataframe tbody tr th {\n",
       "        vertical-align: top;\n",
       "    }\n",
       "\n",
       "    .dataframe thead th {\n",
       "        text-align: right;\n",
       "    }\n",
       "</style>\n",
       "<table border=\"1\" class=\"dataframe\">\n",
       "  <thead>\n",
       "    <tr style=\"text-align: right;\">\n",
       "      <th></th>\n",
       "      <th>email</th>\n",
       "      <th>user_uuid</th>\n",
       "      <th>course_uuid</th>\n",
       "      <th>percentage_completed</th>\n",
       "    </tr>\n",
       "  </thead>\n",
       "  <tbody>\n",
       "    <tr>\n",
       "      <th>0</th>\n",
       "      <td>sonia.omar@blenheimchalcot.com</td>\n",
       "      <td>e08214d4-379a-4ca4-8e35-f92156c3b8a7</td>\n",
       "      <td>5012bdc0-e5d4-4c20-8aa2-f6139d8ba861</td>\n",
       "      <td>0.0</td>\n",
       "    </tr>\n",
       "    <tr>\n",
       "      <th>1</th>\n",
       "      <td>sonia.omar@blenheimchalcot.com</td>\n",
       "      <td>e08214d4-379a-4ca4-8e35-f92156c3b8a7</td>\n",
       "      <td>7e56b420-af1e-4c23-972a-e47493ce355f</td>\n",
       "      <td>1.0</td>\n",
       "    </tr>\n",
       "    <tr>\n",
       "      <th>2</th>\n",
       "      <td>sonia.omar@blenheimchalcot.com</td>\n",
       "      <td>e08214d4-379a-4ca4-8e35-f92156c3b8a7</td>\n",
       "      <td>80103a23-a627-4711-86e2-e276036935e2</td>\n",
       "      <td>0.5</td>\n",
       "    </tr>\n",
       "    <tr>\n",
       "      <th>3</th>\n",
       "      <td>sonia.omar@blenheimchalcot.com</td>\n",
       "      <td>e08214d4-379a-4ca4-8e35-f92156c3b8a7</td>\n",
       "      <td>cf79cfcb-452e-40f9-8ffa-40dac9e62e15</td>\n",
       "      <td>0.0</td>\n",
       "    </tr>\n",
       "    <tr>\n",
       "      <th>4</th>\n",
       "      <td>sonia.omar@blenheimchalcot.com</td>\n",
       "      <td>e08214d4-379a-4ca4-8e35-f92156c3b8a7</td>\n",
       "      <td>fed062b5-3a91-4b74-8593-44e78806a48d</td>\n",
       "      <td>0.0</td>\n",
       "    </tr>\n",
       "  </tbody>\n",
       "</table>\n",
       "</div>"
      ],
      "text/plain": [
       "                            email                             user_uuid  \\\n",
       "0  sonia.omar@blenheimchalcot.com  e08214d4-379a-4ca4-8e35-f92156c3b8a7   \n",
       "1  sonia.omar@blenheimchalcot.com  e08214d4-379a-4ca4-8e35-f92156c3b8a7   \n",
       "2  sonia.omar@blenheimchalcot.com  e08214d4-379a-4ca4-8e35-f92156c3b8a7   \n",
       "3  sonia.omar@blenheimchalcot.com  e08214d4-379a-4ca4-8e35-f92156c3b8a7   \n",
       "4  sonia.omar@blenheimchalcot.com  e08214d4-379a-4ca4-8e35-f92156c3b8a7   \n",
       "\n",
       "                            course_uuid  percentage_completed  \n",
       "0  5012bdc0-e5d4-4c20-8aa2-f6139d8ba861                   0.0  \n",
       "1  7e56b420-af1e-4c23-972a-e47493ce355f                   1.0  \n",
       "2  80103a23-a627-4711-86e2-e276036935e2                   0.5  \n",
       "3  cf79cfcb-452e-40f9-8ffa-40dac9e62e15                   0.0  \n",
       "4  fed062b5-3a91-4b74-8593-44e78806a48d                   0.0  "
      ]
     },
     "execution_count": 3,
     "metadata": {},
     "output_type": "execute_result"
    }
   ],
   "source": [
    "df_progression = df_progression[['email','user_uuid','course_uuid','percentage_completed']]\n",
    "df_progression.head()"
   ]
  },
  {
   "cell_type": "code",
   "execution_count": 4,
   "metadata": {},
   "outputs": [
    {
     "data": {
      "text/plain": [
       "(295187, 5)"
      ]
     },
     "execution_count": 4,
     "metadata": {},
     "output_type": "execute_result"
    }
   ],
   "source": [
    "df_merge = df_course.merge(df_progression,on='course_uuid',how='left' )\n",
    "df_merge.shape"
   ]
  },
  {
   "cell_type": "code",
   "execution_count": 5,
   "metadata": {},
   "outputs": [],
   "source": [
    "df_merge.to_csv('merged_progression.csv', index=False)"
   ]
  },
  {
   "cell_type": "code",
   "execution_count": null,
   "metadata": {},
   "outputs": [],
   "source": []
  },
  {
   "cell_type": "code",
   "execution_count": null,
   "metadata": {},
   "outputs": [],
   "source": []
  },
  {
   "cell_type": "code",
   "execution_count": null,
   "metadata": {},
   "outputs": [],
   "source": []
  },
  {
   "cell_type": "code",
   "execution_count": null,
   "metadata": {},
   "outputs": [],
   "source": []
  },
  {
   "cell_type": "code",
   "execution_count": null,
   "metadata": {},
   "outputs": [],
   "source": []
  }
 ],
 "metadata": {
  "kernelspec": {
   "display_name": "vnvv",
   "language": "python",
   "name": "python3"
  },
  "language_info": {
   "codemirror_mode": {
    "name": "ipython",
    "version": 3
   },
   "file_extension": ".py",
   "mimetype": "text/x-python",
   "name": "python",
   "nbconvert_exporter": "python",
   "pygments_lexer": "ipython3",
   "version": "3.11.5"
  }
 },
 "nbformat": 4,
 "nbformat_minor": 2
}
