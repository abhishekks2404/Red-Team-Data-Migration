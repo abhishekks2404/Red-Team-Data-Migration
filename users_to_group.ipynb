{
 "cells": [
  {
   "cell_type": "code",
   "execution_count": 115,
   "metadata": {},
   "outputs": [],
   "source": [
    "import pandas as pd\n",
    "\n",
    "df_users = pd.read_csv('thinkific_users.csv')\n",
    "df_course = pd.read_excel('course_uuid.xlsx')"
   ]
  },
  {
   "cell_type": "code",
   "execution_count": 116,
   "metadata": {},
   "outputs": [
    {
     "data": {
      "text/html": [
       "<div>\n",
       "<style scoped>\n",
       "    .dataframe tbody tr th:only-of-type {\n",
       "        vertical-align: middle;\n",
       "    }\n",
       "\n",
       "    .dataframe tbody tr th {\n",
       "        vertical-align: top;\n",
       "    }\n",
       "\n",
       "    .dataframe thead th {\n",
       "        text-align: right;\n",
       "    }\n",
       "</style>\n",
       "<table border=\"1\" class=\"dataframe\">\n",
       "  <thead>\n",
       "    <tr style=\"text-align: right;\">\n",
       "      <th></th>\n",
       "      <th>thinkific_id</th>\n",
       "      <th>course_uuid</th>\n",
       "    </tr>\n",
       "  </thead>\n",
       "  <tbody>\n",
       "    <tr>\n",
       "      <th>0</th>\n",
       "      <td>1629110</td>\n",
       "      <td>270d92c3-6d21-4a94-a228-2a3881e00a65</td>\n",
       "    </tr>\n",
       "    <tr>\n",
       "      <th>1</th>\n",
       "      <td>1638697</td>\n",
       "      <td>005e6e9c-5b61-4dbc-90bd-0946f1fb4521</td>\n",
       "    </tr>\n",
       "    <tr>\n",
       "      <th>2</th>\n",
       "      <td>1638778</td>\n",
       "      <td>7de3fc5f-75c2-41df-b9b7-f2c2f858aaa7</td>\n",
       "    </tr>\n",
       "    <tr>\n",
       "      <th>3</th>\n",
       "      <td>1647956</td>\n",
       "      <td>1686d863-7d55-4001-be12-dbaa04b645ad</td>\n",
       "    </tr>\n",
       "    <tr>\n",
       "      <th>4</th>\n",
       "      <td>1653959</td>\n",
       "      <td>6a35b48e-b173-49c6-ad06-c60cca75bd0e</td>\n",
       "    </tr>\n",
       "  </tbody>\n",
       "</table>\n",
       "</div>"
      ],
      "text/plain": [
       "   thinkific_id                           course_uuid\n",
       "0       1629110  270d92c3-6d21-4a94-a228-2a3881e00a65\n",
       "1       1638697  005e6e9c-5b61-4dbc-90bd-0946f1fb4521\n",
       "2       1638778  7de3fc5f-75c2-41df-b9b7-f2c2f858aaa7\n",
       "3       1647956  1686d863-7d55-4001-be12-dbaa04b645ad\n",
       "4       1653959  6a35b48e-b173-49c6-ad06-c60cca75bd0e"
      ]
     },
     "execution_count": 116,
     "metadata": {},
     "output_type": "execute_result"
    }
   ],
   "source": [
    "df_course = df_course[['course_id','course_uuid']]\n",
    "df_course = df_course.rename(columns={'course_id': 'thinkific_id'})\n",
    "df_course.head()\n",
    "\n"
   ]
  },
  {
   "cell_type": "code",
   "execution_count": 117,
   "metadata": {},
   "outputs": [
    {
     "data": {
      "text/html": [
       "<div>\n",
       "<style scoped>\n",
       "    .dataframe tbody tr th:only-of-type {\n",
       "        vertical-align: middle;\n",
       "    }\n",
       "\n",
       "    .dataframe tbody tr th {\n",
       "        vertical-align: top;\n",
       "    }\n",
       "\n",
       "    .dataframe thead th {\n",
       "        text-align: right;\n",
       "    }\n",
       "</style>\n",
       "<table border=\"1\" class=\"dataframe\">\n",
       "  <thead>\n",
       "    <tr style=\"text-align: right;\">\n",
       "      <th></th>\n",
       "      <th>email</th>\n",
       "      <th>user_id</th>\n",
       "    </tr>\n",
       "  </thead>\n",
       "  <tbody>\n",
       "    <tr>\n",
       "      <th>0</th>\n",
       "      <td>sonia.omar@blenheimchalcot.com</td>\n",
       "      <td>e08214d4-379a-4ca4-8e35-f92156c3b8a7</td>\n",
       "    </tr>\n",
       "    <tr>\n",
       "      <th>1</th>\n",
       "      <td>lee.arthur@blenheimchalcot.com</td>\n",
       "      <td>8e445e77-0133-4865-8705-92f699bfbe6b</td>\n",
       "    </tr>\n",
       "    <tr>\n",
       "      <th>2</th>\n",
       "      <td>benjamin.weinstock@blenheimchalcot.com</td>\n",
       "      <td>727f22b4-396f-4fd7-93cd-7080b2840ad4</td>\n",
       "    </tr>\n",
       "    <tr>\n",
       "      <th>3</th>\n",
       "      <td>bgweinstock@gmail.com</td>\n",
       "      <td>af2e00ee-8950-4677-ba0a-4075986ab40e</td>\n",
       "    </tr>\n",
       "    <tr>\n",
       "      <th>4</th>\n",
       "      <td>ksenia.levina@blenheimchalcot.com</td>\n",
       "      <td>d9486dc5-701b-4c57-a5f4-52f2fce26551</td>\n",
       "    </tr>\n",
       "  </tbody>\n",
       "</table>\n",
       "</div>"
      ],
      "text/plain": [
       "                                    email  \\\n",
       "0          sonia.omar@blenheimchalcot.com   \n",
       "1          lee.arthur@blenheimchalcot.com   \n",
       "2  benjamin.weinstock@blenheimchalcot.com   \n",
       "3                   bgweinstock@gmail.com   \n",
       "4       ksenia.levina@blenheimchalcot.com   \n",
       "\n",
       "                                user_id  \n",
       "0  e08214d4-379a-4ca4-8e35-f92156c3b8a7  \n",
       "1  8e445e77-0133-4865-8705-92f699bfbe6b  \n",
       "2  727f22b4-396f-4fd7-93cd-7080b2840ad4  \n",
       "3  af2e00ee-8950-4677-ba0a-4075986ab40e  \n",
       "4  d9486dc5-701b-4c57-a5f4-52f2fce26551  "
      ]
     },
     "execution_count": 117,
     "metadata": {},
     "output_type": "execute_result"
    }
   ],
   "source": [
    "df_users = df_users[['email', 'user_id']]\n",
    "df_users.head()\n"
   ]
  },
  {
   "cell_type": "code",
   "execution_count": 109,
   "metadata": {},
   "outputs": [],
   "source": [
    "df_combine = pd.read_csv('rt staff users-groups 2.csv')"
   ]
  },
  {
   "cell_type": "code",
   "execution_count": 110,
   "metadata": {},
   "outputs": [],
   "source": [
    "df_combine = df_combine[['email','thinkific_id']]\n"
   ]
  },
  {
   "cell_type": "code",
   "execution_count": 111,
   "metadata": {},
   "outputs": [],
   "source": [
    "df_merge = df_combine.merge(df_users,on='email',how='left')\n"
   ]
  },
  {
   "cell_type": "code",
   "execution_count": 112,
   "metadata": {},
   "outputs": [],
   "source": [
    "df_merge = df_merge.merge(df_course, on='thinkific_id', how='left')\n"
   ]
  },
  {
   "cell_type": "code",
   "execution_count": 113,
   "metadata": {},
   "outputs": [
    {
     "data": {
      "text/html": [
       "<div>\n",
       "<style scoped>\n",
       "    .dataframe tbody tr th:only-of-type {\n",
       "        vertical-align: middle;\n",
       "    }\n",
       "\n",
       "    .dataframe tbody tr th {\n",
       "        vertical-align: top;\n",
       "    }\n",
       "\n",
       "    .dataframe thead th {\n",
       "        text-align: right;\n",
       "    }\n",
       "</style>\n",
       "<table border=\"1\" class=\"dataframe\">\n",
       "  <thead>\n",
       "    <tr style=\"text-align: right;\">\n",
       "      <th></th>\n",
       "      <th>user_id</th>\n",
       "      <th>group_id</th>\n",
       "    </tr>\n",
       "  </thead>\n",
       "  <tbody>\n",
       "    <tr>\n",
       "      <th>0</th>\n",
       "      <td>632b2a9d-1f2b-4055-b777-ed5e435aad6d</td>\n",
       "      <td>37caa809-185d-4fd0-8f2f-77a176917213</td>\n",
       "    </tr>\n",
       "    <tr>\n",
       "      <th>1</th>\n",
       "      <td>632b2a9d-1f2b-4055-b777-ed5e435aad6d</td>\n",
       "      <td>e48078dc-12f3-48af-ba32-fec4af674057</td>\n",
       "    </tr>\n",
       "    <tr>\n",
       "      <th>2</th>\n",
       "      <td>632b2a9d-1f2b-4055-b777-ed5e435aad6d</td>\n",
       "      <td>5ac8918a-5033-4ee8-b9ca-0c9e94118928</td>\n",
       "    </tr>\n",
       "    <tr>\n",
       "      <th>3</th>\n",
       "      <td>632b2a9d-1f2b-4055-b777-ed5e435aad6d</td>\n",
       "      <td>91e798b5-019d-4c61-8c64-5a024c3df3fb</td>\n",
       "    </tr>\n",
       "    <tr>\n",
       "      <th>4</th>\n",
       "      <td>632b2a9d-1f2b-4055-b777-ed5e435aad6d</td>\n",
       "      <td>0ad252ca-42b1-4b3d-bb5e-7a0cd6e2888a</td>\n",
       "    </tr>\n",
       "  </tbody>\n",
       "</table>\n",
       "</div>"
      ],
      "text/plain": [
       "                                user_id                              group_id\n",
       "0  632b2a9d-1f2b-4055-b777-ed5e435aad6d  37caa809-185d-4fd0-8f2f-77a176917213\n",
       "1  632b2a9d-1f2b-4055-b777-ed5e435aad6d  e48078dc-12f3-48af-ba32-fec4af674057\n",
       "2  632b2a9d-1f2b-4055-b777-ed5e435aad6d  5ac8918a-5033-4ee8-b9ca-0c9e94118928\n",
       "3  632b2a9d-1f2b-4055-b777-ed5e435aad6d  91e798b5-019d-4c61-8c64-5a024c3df3fb\n",
       "4  632b2a9d-1f2b-4055-b777-ed5e435aad6d  0ad252ca-42b1-4b3d-bb5e-7a0cd6e2888a"
      ]
     },
     "execution_count": 113,
     "metadata": {},
     "output_type": "execute_result"
    }
   ],
   "source": [
    "df_merge = df_merge[['user_id','course_uuid']]\n",
    "df_merge = df_merge.rename(columns={'course_uuid': 'group_id'})\n",
    "df_merge.head()"
   ]
  },
  {
   "cell_type": "code",
   "execution_count": 114,
   "metadata": {},
   "outputs": [],
   "source": [
    "df_merge.to_csv('merged_userid_groupid.csv', index=False)"
   ]
  },
  {
   "cell_type": "code",
   "execution_count": null,
   "metadata": {},
   "outputs": [],
   "source": []
  }
 ],
 "metadata": {
  "kernelspec": {
   "display_name": "vnvv",
   "language": "python",
   "name": "python3"
  },
  "language_info": {
   "codemirror_mode": {
    "name": "ipython",
    "version": 3
   },
   "file_extension": ".py",
   "mimetype": "text/x-python",
   "name": "python",
   "nbconvert_exporter": "python",
   "pygments_lexer": "ipython3",
   "version": "3.11.5"
  }
 },
 "nbformat": 4,
 "nbformat_minor": 2
}
